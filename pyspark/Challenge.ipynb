{
 "cells": [
  {
   "cell_type": "code",
   "execution_count": 5,
   "id": "157af12f",
   "metadata": {},
   "outputs": [],
   "source": [
    "import pyspark\n",
    "from pyspark.sql import SparkSession\n",
    "from pyspark.sql.types import *\n",
    "from pyspark.sql.functions import *"
   ]
  },
  {
   "cell_type": "code",
   "execution_count": 3,
   "id": "5da265f4",
   "metadata": {
    "collapsed": true
   },
   "outputs": [
    {
     "data": {
      "text/html": [
       "\n",
       "            <div>\n",
       "                <p><b>SparkSession - in-memory</b></p>\n",
       "                \n",
       "        <div>\n",
       "            <p><b>SparkContext</b></p>\n",
       "\n",
       "            <p><a href=\"http://PG030EXS.corp.advancestores.com:4041\">Spark UI</a></p>\n",
       "\n",
       "            <dl>\n",
       "              <dt>Version</dt>\n",
       "                <dd><code>v3.5.1</code></dd>\n",
       "              <dt>Master</dt>\n",
       "                <dd><code>local[*]</code></dd>\n",
       "              <dt>AppName</dt>\n",
       "                <dd><code>pyspark-shell</code></dd>\n",
       "            </dl>\n",
       "        </div>\n",
       "        \n",
       "            </div>\n",
       "        "
      ],
      "text/plain": [
       "<pyspark.sql.session.SparkSession at 0x2c2f1000250>"
      ]
     },
     "execution_count": 3,
     "metadata": {},
     "output_type": "execute_result"
    }
   ],
   "source": [
    "spark = SparkSession.builder.getOrCreate()\n",
    "spark"
   ]
  },
  {
   "cell_type": "code",
   "execution_count": 4,
   "id": "7f00d59f",
   "metadata": {},
   "outputs": [],
   "source": [
    "df_chl = spark.read.csv(r\"C:\\Users\\maheshbabu.devathi\\OneDrive - Advance Auto Parts\\Desktop\\AAP\\practice\\pyspark\\data\\challenge.csv\", header = True)"
   ]
  },
  {
   "cell_type": "code",
   "execution_count": 7,
   "id": "a84095ad",
   "metadata": {},
   "outputs": [
    {
     "name": "stdout",
     "output_type": "stream",
     "text": [
      "+--------------+-------+----------------+----------+\n",
      "|    ip_address|Country|     Domain Name|Bytes_used|\n",
      "+--------------+-------+----------------+----------+\n",
      "| 52.81.192.172|  China|odnoklassniki.ru|       463|\n",
      "|119.239.207.13|  China|        youtu.be|        51|\n",
      "+--------------+-------+----------------+----------+\n",
      "only showing top 2 rows\n",
      "\n"
     ]
    }
   ],
   "source": [
    "df_chl.show(2)"
   ]
  },
  {
   "cell_type": "code",
   "execution_count": 6,
   "id": "ffeec49a",
   "metadata": {},
   "outputs": [
    {
     "data": {
      "text/plain": [
       "[('ip_address', 'string'),\n",
       " ('Country', 'string'),\n",
       " ('Domain Name', 'string'),\n",
       " ('Bytes_used', 'string')]"
      ]
     },
     "execution_count": 6,
     "metadata": {},
     "output_type": "execute_result"
    }
   ],
   "source": [
    "df_chl.dtypes"
   ]
  },
  {
   "cell_type": "code",
   "execution_count": 12,
   "id": "1a84a43b",
   "metadata": {},
   "outputs": [],
   "source": [
    "myschema = StructType([StructField('ip_address', StringType()),\n",
    "                       StructField('Country', StringType()),\n",
    "                       StructField('Domain Name', StringType()),\n",
    "                       StructField('Bytes_used', FloatType())])"
   ]
  },
  {
   "cell_type": "code",
   "execution_count": 13,
   "id": "c78daf65",
   "metadata": {},
   "outputs": [],
   "source": [
    "df_chl = spark.read.csv(r\"C:\\Users\\maheshbabu.devathi\\OneDrive - Advance Auto Parts\\Desktop\\AAP\\practice\\pyspark\\data\\challenge.csv\", header = True, schema = myschema)"
   ]
  },
  {
   "cell_type": "code",
   "execution_count": 14,
   "id": "07cb754d",
   "metadata": {},
   "outputs": [
    {
     "name": "stdout",
     "output_type": "stream",
     "text": [
      "+--------------+-------+----------------+----------+\n",
      "|    ip_address|Country|     Domain Name|Bytes_used|\n",
      "+--------------+-------+----------------+----------+\n",
      "| 52.81.192.172|  China|odnoklassniki.ru|     463.0|\n",
      "|119.239.207.13|  China|        youtu.be|      51.0|\n",
      "+--------------+-------+----------------+----------+\n",
      "only showing top 2 rows\n",
      "\n"
     ]
    }
   ],
   "source": [
    "df_chl.show(2)"
   ]
  },
  {
   "cell_type": "code",
   "execution_count": 15,
   "id": "1c62b48a",
   "metadata": {},
   "outputs": [
    {
     "data": {
      "text/plain": [
       "[('ip_address', 'string'),\n",
       " ('Country', 'string'),\n",
       " ('Domain Name', 'string'),\n",
       " ('Bytes_used', 'float')]"
      ]
     },
     "execution_count": 15,
     "metadata": {},
     "output_type": "execute_result"
    }
   ],
   "source": [
    "df_chl.dtypes"
   ]
  },
  {
   "cell_type": "markdown",
   "id": "aee82761",
   "metadata": {},
   "source": [
    "C1) Add a column to say yes or no to whether the country is Mexico <br>\n",
    "C2) Group by your new column and sum bytes_used<br>\n",
    "C3) Group by Country & use the sqlfunc.countDistinct function to calculate the number of IP addresses seen in each country"
   ]
  },
  {
   "cell_type": "code",
   "execution_count": 16,
   "id": "0135c3f7",
   "metadata": {
    "collapsed": true
   },
   "outputs": [
    {
     "name": "stdout",
     "output_type": "stream",
     "text": [
      "+---------------+--------------+-----------------+----------+-------+\n",
      "|     ip_address|       Country|      Domain Name|Bytes_used|Cnt_Mex|\n",
      "+---------------+--------------+-----------------+----------+-------+\n",
      "|  52.81.192.172|         China| odnoklassniki.ru|     463.0|     No|\n",
      "| 119.239.207.13|         China|         youtu.be|      51.0|     No|\n",
      "|  68.69.217.210|         China|        adobe.com|      10.0|     No|\n",
      "|   7.191.21.223|      Bulgaria|     linkedin.com|     853.0|     No|\n",
      "|   211.13.10.68|     Indonesia|          hud.gov|      29.0|     No|\n",
      "|   239.80.21.97|      Suriname|       smh.com.au|     218.0|     No|\n",
      "|106.214.106.233|       Jamaica|    amazonaws.com|      95.0|     No|\n",
      "| 127.242.24.138|         China| surveymonkey.com|     123.0|     No|\n",
      "|     99.2.6.139|Czech Republic|     geocities.jp|     322.0|     No|\n",
      "|   237.54.11.63|         China|       amazon.com|      83.0|     No|\n",
      "| 252.141.157.25|         Japan|      cornell.edu|     374.0|     No|\n",
      "|185.220.128.248|       Belgium|       weebly.com|     389.0|     No|\n",
      "|   151.77.19.45|   Afghanistan|independent.co.uk|     282.0|     No|\n",
      "|  9.161.158.225|     Indonesia|    bloglines.com|     726.0|     No|\n",
      "| 156.144.61.155|Czech Republic|   slideshare.net|     657.0|     No|\n",
      "|   8.96.188.151|     Indonesia|          ibm.com|     517.0|     No|\n",
      "|      5.72.7.65|        Mexico|         youtu.be|     877.0|    Yes|\n",
      "|227.110.112.144|       Croatia|         ehow.com|     287.0|     No|\n",
      "|    81.71.28.97|      Thailand|          last.fm|     588.0|     No|\n",
      "|  9.255.129.184|      Thailand|          mtv.com|     114.0|     No|\n",
      "+---------------+--------------+-----------------+----------+-------+\n",
      "only showing top 20 rows\n",
      "\n"
     ]
    }
   ],
   "source": [
    "## C1\n",
    "df_c1 = df_chl.withColumn('Cnt_Mex', when(df_chl.Country == 'Mexico','Yes').otherwise('No'))\n",
    "df_c1.show()"
   ]
  },
  {
   "cell_type": "code",
   "execution_count": 24,
   "id": "51762fc3",
   "metadata": {},
   "outputs": [],
   "source": [
    "# C2\n",
    "import pyspark.sql.functions as sqlfunc\n",
    "df_c2 = df_c1.groupBy('Cnt_Mex').agg(sqlfunc.sum('Bytes_used').alias('Total Bytes Used'))"
   ]
  },
  {
   "cell_type": "code",
   "execution_count": 25,
   "id": "973a4f4f",
   "metadata": {
    "scrolled": true
   },
   "outputs": [
    {
     "name": "stdout",
     "output_type": "stream",
     "text": [
      "+-------+----------------+\n",
      "|Cnt_Mex|Total Bytes Used|\n",
      "+-------+----------------+\n",
      "|     No|        508076.0|\n",
      "|    Yes|          6293.0|\n",
      "+-------+----------------+\n",
      "\n"
     ]
    }
   ],
   "source": [
    "df_c2.show()"
   ]
  },
  {
   "cell_type": "code",
   "execution_count": 26,
   "id": "339270b9",
   "metadata": {
    "collapsed": true
   },
   "outputs": [
    {
     "name": "stdout",
     "output_type": "stream",
     "text": [
      "+-----------+-----------------+\n",
      "|    Country|Unique_IP_address|\n",
      "+-----------+-----------------+\n",
      "|       Chad|                1|\n",
      "|     Russia|               56|\n",
      "|   Paraguay|                1|\n",
      "|      Yemen|                1|\n",
      "|     Sweden|               28|\n",
      "|Philippines|               65|\n",
      "|   Malaysia|                5|\n",
      "|     Turkey|                1|\n",
      "|     Malawi|                2|\n",
      "|    Germany|                5|\n",
      "|    Comoros|                1|\n",
      "|Afghanistan|                5|\n",
      "|     Rwanda|                1|\n",
      "|      Sudan|                1|\n",
      "|     France|               21|\n",
      "|     Greece|                8|\n",
      "|  Sri Lanka|                3|\n",
      "|   Dominica|                1|\n",
      "|  Argentina|               14|\n",
      "|    Belgium|                1|\n",
      "+-----------+-----------------+\n",
      "only showing top 20 rows\n",
      "\n"
     ]
    }
   ],
   "source": [
    "#C3\n",
    "df_c3 = df_chl.groupBy('Country').agg(sqlfunc.countDistinct('ip_address').alias('Unique_IP_address'))\n",
    "df_c3.show()"
   ]
  },
  {
   "cell_type": "code",
   "execution_count": 27,
   "id": "7fc09eb6",
   "metadata": {
    "collapsed": true
   },
   "outputs": [
    {
     "name": "stdout",
     "output_type": "stream",
     "text": [
      "+--------------+-----------------+\n",
      "|       Country|Unique_IP_address|\n",
      "+--------------+-----------------+\n",
      "|         China|              172|\n",
      "|     Indonesia|              114|\n",
      "|   Philippines|               65|\n",
      "|        Russia|               56|\n",
      "|        Brazil|               35|\n",
      "|        Poland|               31|\n",
      "|        Sweden|               28|\n",
      "|         Japan|               25|\n",
      "|Czech Republic|               23|\n",
      "|      Portugal|               23|\n",
      "|        France|               21|\n",
      "|          Peru|               19|\n",
      "|      Colombia|               17|\n",
      "| United States|               15|\n",
      "|     Argentina|               14|\n",
      "|       Ukraine|               14|\n",
      "|        Mexico|               13|\n",
      "|      Thailand|               12|\n",
      "|       Nigeria|               11|\n",
      "|        Canada|               11|\n",
      "+--------------+-----------------+\n",
      "only showing top 20 rows\n",
      "\n"
     ]
    }
   ],
   "source": [
    "df_c3.sort(desc('Unique_IP_address')).show()"
   ]
  },
  {
   "cell_type": "code",
   "execution_count": null,
   "id": "26793f2b",
   "metadata": {},
   "outputs": [],
   "source": []
  }
 ],
 "metadata": {
  "kernelspec": {
   "display_name": "Python 3 (ipykernel)",
   "language": "python",
   "name": "python3"
  },
  "language_info": {
   "codemirror_mode": {
    "name": "ipython",
    "version": 3
   },
   "file_extension": ".py",
   "mimetype": "text/x-python",
   "name": "python",
   "nbconvert_exporter": "python",
   "pygments_lexer": "ipython3",
   "version": "3.9.12"
  }
 },
 "nbformat": 4,
 "nbformat_minor": 5
}
