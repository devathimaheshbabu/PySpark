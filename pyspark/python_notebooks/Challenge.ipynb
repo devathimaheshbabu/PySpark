{
 "cells": [
  {
   "cell_type": "code",
   "execution_count": null,
   "id": "903c317a",
   "metadata": {},
   "outputs": [],
   "source": [
    "import pyspark\n",
    "from pyspark.sql import SparkSession\n",
    "from pyspark.sql.types import *\n",
    "from pyspark.sql.functions import *"
   ]
  },
  {
   "cell_type": "code",
   "execution_count": null,
   "id": "1212898d",
   "metadata": {},
   "outputs": [],
   "source": [
    "spark = SparkSession.builder.getOrCreate()\n",
    "spark"
   ]
  },
  {
   "cell_type": "code",
   "execution_count": null,
   "id": "b7b2a198",
   "metadata": {},
   "outputs": [],
   "source": [
    "df_chl = spark.read.csv(r\"challenge.csv\", header = True)"
   ]
  },
  {
   "cell_type": "code",
   "execution_count": null,
   "id": "8641402d",
   "metadata": {},
   "outputs": [],
   "source": [
    "df_chl.show(2)"
   ]
  },
  {
   "cell_type": "code",
   "execution_count": null,
   "id": "7b3d2f70",
   "metadata": {},
   "outputs": [],
   "source": [
    "df_chl.dtypes"
   ]
  },
  {
   "cell_type": "code",
   "execution_count": null,
   "id": "bf8e8964",
   "metadata": {},
   "outputs": [],
   "source": [
    "myschema = StructType([StructField('ip_address', StringType()),\n",
    "                       StructField('Country', StringType()),\n",
    "                       StructField('Domain Name', StringType()),\n",
    "                       StructField('Bytes_used', FloatType())])"
   ]
  },
  {
   "cell_type": "code",
   "execution_count": null,
   "id": "50b4fc9c",
   "metadata": {},
   "outputs": [],
   "source": [
    "df_chl = spark.read.csv(r\"challenge.csv\", header = True, schema = myschema)"
   ]
  },
  {
   "cell_type": "code",
   "execution_count": null,
   "id": "2d3fad02",
   "metadata": {},
   "outputs": [],
   "source": [
    "df_chl.show(2)"
   ]
  },
  {
   "cell_type": "code",
   "execution_count": null,
   "id": "dff465fa",
   "metadata": {},
   "outputs": [],
   "source": [
    "df_chl.dtypes"
   ]
  },
  {
   "cell_type": "markdown",
   "id": "f6c0439a",
   "metadata": {},
   "source": [
    "C1) Add a column to say yes or no to whether the country is Mexico <br>\n",
    "C2) Group by your new column and sum bytes_used<br>\n",
    "C3) Group by Country & use the sqlfunc.countDistinct function to calculate the number of IP addresses seen in each country"
   ]
  },
  {
   "cell_type": "code",
   "execution_count": null,
   "id": "9272be2b",
   "metadata": {},
   "outputs": [],
   "source": [
    "## C1\n",
    "df_c1 = df_chl.withColumn('Cnt_Mex', when(df_chl.Country == 'Mexico','Yes').otherwise('No'))\n",
    "df_c1.show()"
   ]
  },
  {
   "cell_type": "code",
   "execution_count": null,
   "id": "5909880a",
   "metadata": {},
   "outputs": [],
   "source": [
    "# C2\n",
    "import pyspark.sql.functions as sqlfunc\n",
    "df_c2 = df_c1.groupBy('Cnt_Mex').agg(sqlfunc.sum('Bytes_used').alias('Total Bytes Used'))"
   ]
  },
  {
   "cell_type": "code",
   "execution_count": null,
   "id": "e77c681c",
   "metadata": {
    "scrolled": true
   },
   "outputs": [],
   "source": [
    "df_c2.show()"
   ]
  },
  {
   "cell_type": "code",
   "execution_count": null,
   "id": "479b5c1f",
   "metadata": {},
   "outputs": [],
   "source": [
    "#C3\n",
    "df_c3 = df_chl.groupBy('Country').agg(sqlfunc.countDistinct('ip_address').alias('Unique_IP_address'))\n",
    "df_c3.show()"
   ]
  },
  {
   "cell_type": "code",
   "execution_count": null,
   "id": "f2de0d53",
   "metadata": {},
   "outputs": [],
   "source": [
    "df_c3.sort(desc('Unique_IP_address')).show()"
   ]
  },
  {
   "cell_type": "code",
   "execution_count": null,
   "id": "5a69638d",
   "metadata": {},
   "outputs": [],
   "source": []
  }
 ],
 "metadata": {
  "kernelspec": {
   "display_name": "Python 3 (ipykernel)",
   "language": "python",
   "name": "python3"
  },
  "language_info": {
   "codemirror_mode": {
    "name": "ipython",
    "version": 3
   },
   "file_extension": ".py",
   "mimetype": "text/x-python",
   "name": "python",
   "nbconvert_exporter": "python",
   "pygments_lexer": "ipython3",
   "version": "3.9.12"
  }
 },
 "nbformat": 4,
 "nbformat_minor": 5
}
